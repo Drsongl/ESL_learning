{
 "cells": [
  {
   "cell_type": "markdown",
   "metadata": {},
   "source": [
    "# Chapter 2:  Overview of Supervised Learning"
   ]
  },
  {
   "cell_type": "markdown",
   "metadata": {},
   "source": [
    "## 2.1 - 2.3"
   ]
  },
  {
   "cell_type": "markdown",
   "metadata": {},
   "source": [
    "### Definition of terms"
   ]
  },
  {
   "cell_type": "markdown",
   "metadata": {},
   "source": [
    "* Supervised Learning - use the input(predictor, features) to predict the values of the outputs(responses)\n",
    "* quantitative - continuous variable\n",
    "* qualilative - discrete(categorical) variable\n",
    "* dummy - K binary variables that use to represent K-level categorical variable\n",
    "* OLS, aka ordinary least squares - picked the coefficient $\\beta$ to minimize the residual sum of squares\n",
    "* KNN, aka k-nearest-neigbor Methods - use observations in the training set that closest in input space to a given x to form the predicted response Y"
   ]
  },
  {
   "cell_type": "markdown",
   "metadata": {},
   "source": [
    "### Why k is hyperparameter for KNN method? "
   ]
  },
  {
   "cell_type": "markdown",
   "metadata": {},
   "source": [
    "The training data should be approximately an increasing function of k, and will be 0 if k=1. So we need an independent data to test the performance."
   ]
  },
  {
   "cell_type": "markdown",
   "metadata": {},
   "source": [
    "### How to enhance the linear regression or the simplest KNN? (very hihgh-level)"
   ]
  },
  {
   "cell_type": "markdown",
   "metadata": {},
   "source": [
    "1. Kernel methods use weights that decrease smoothly to zero with distance from the target point, rather than the eﬀective 0/1 weights used by k-nearest neighbors.\n",
    "2. Local regression ﬁts linear models by locally weighted least squares, rather than ﬁtting constants locally.\n",
    "3. Linear models ﬁt to a basis expansion of the original inputs allow arbitrarily complex models.\n",
    "4. Projection pursuit and neural network models consist of sums of non-linearly transformed linear models.( more general case of 3)"
   ]
  },
  {
   "cell_type": "code",
   "execution_count": null,
   "metadata": {},
   "outputs": [],
   "source": []
  }
 ],
 "metadata": {
  "kernelspec": {
   "display_name": "Python 3",
   "language": "python",
   "name": "python3"
  },
  "language_info": {
   "codemirror_mode": {
    "name": "ipython",
    "version": 3
   },
   "file_extension": ".py",
   "mimetype": "text/x-python",
   "name": "python",
   "nbconvert_exporter": "python",
   "pygments_lexer": "ipython3",
   "version": "3.7.4"
  }
 },
 "nbformat": 4,
 "nbformat_minor": 4
}
